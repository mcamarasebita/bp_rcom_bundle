{
 "cells": [
  {
   "cell_type": "code",
   "execution_count": 2,
   "metadata": {},
   "outputs": [],
   "source": [
    "import pandas as pd"
   ]
  },
  {
   "cell_type": "code",
   "execution_count": 3,
   "metadata": {},
   "outputs": [],
   "source": [
    "dd_bundle_subs = pd.read_csv('Bundles Subscription Behavior.csv',sep = ',')\n",
    "df_data_BTL = dd_bundle_subs[dd_bundle_subs.bundle_name.str.startswith('BTL')]\n",
    "df_kmeans= pd.read_csv('df_kmeans.csv',sep = ',')\n",
    "df_kmeans_bundle = df_kmeans.merge(df_data_BTL,on = 'msisdn_id',how='left')"
   ]
  },
  {
   "cell_type": "code",
   "execution_count": 6,
   "metadata": {},
   "outputs": [],
   "source": [
    "def reco(num):\n",
    "    bundle = []\n",
    "    t = df_kmeans_bundle[df_kmeans_bundle.msisdn_id==num].reset_index()\n",
    "    T1 = t.groupby(['labels','bundle_name','price_point'],dropna=False)['msisdn_id'].count().nlargest(2).reset_index()\n",
    "\n",
    "# we will perform recommendation to customer in labels 0 like this\n",
    "# customer without bundle subscription will be recommend BTL 4G Bundle 1 Daily \n",
    "# customer with bundle BTL 4G Bundle 1 Daily will be recommend  BTL 4G Bundle 14 Weekly \n",
    "# customer with bundle BTL 4G Bundle 14 Weekly will be recommend BTL 4G Bundle 7 Weekly (Upselling)\n",
    "    if T1.labels[0]== 0: # cluster 0\n",
    "        bundle.append(T1.labels[0])\n",
    "        if len(T1) == 0 :\n",
    "            bundle.append('BTL 4G Bundle 1 Daily')\n",
    "            bundle.append('BTL 4G Bundle 14 Weekly')\n",
    "        elif len(T1) == 1 :\n",
    "            if T1.bundle_name[0] == 'BTL 4G Bundle 1 Daily ':\n",
    "                    bundle.append('BTL 4G Bundle 1 Daily')\n",
    "                    bundle.append('BTL 4G Bundle 14 Weekly')\n",
    "            elif T1.bundle_name[0] == 'BTL 4G Bundle 14 Weekly':\n",
    "                    bundle.append('BTL 4G Bundle 14 Weekly')\n",
    "                    bundle.append('BTL 4G Bundle 7 Weekly') # uspselling\n",
    "            else:\n",
    "                if T1.price_point[0] > 22 : # I want to prevent down - selling\n",
    "                    bundle.append(T1.bundle_name[0])\n",
    "                    bundle.append('BTL 4G Bundle 7 Weekly')\n",
    "                else:\n",
    "                    bundle.append('BTL 4G Bundle 14 Weekly')\n",
    "                    bundle.append('BTL 4G Bundle 7 Weekly')\n",
    "        else:     \n",
    "            if T1.price_point[1] > 22:  # I want to prevent down - selling\n",
    "                    bundle.append(T1.bundle_name[0])\n",
    "                    bundle.append(T1.bundle_name[1])\n",
    "            else:\n",
    "                    bundle.append(T1.bundle_name[0])\n",
    "                    bundle.append('BTL 4G Bundle 7 Weekly')# Upselling\n",
    "\n",
    "# we will perform recommendation to customer in labels 1 like this\n",
    "# customer without bundle subscription will be recommend BTL 4G Bundle 14 Weekly\n",
    "# customer with bundle BTL 4G Bundle 14 Weekly will be recommend BTL 4G Bundle 7 Weekly \n",
    "# customer with bundle BTL 4G Bundle 7 Weekly   will be recommend BTL 4G Bundle 8 Weekly(Upselling\n",
    "    \n",
    "    \n",
    "    if T1.labels[0]== 1:   # cluster 1\n",
    "        bundle.append(T1.labels[0])\n",
    "        if len(T1) == 0 :\n",
    "            bundle.append('BTL 4G Bundle 7 Weekly')\n",
    "            bundle.append('BTL 4G Bundle 14 Weekly')\n",
    "        elif len(T1) == 1 :\n",
    "            if T1.bundle_name[0] == 'BTL 4G Bundle 14 Weekly':\n",
    "                    bundle.append('BTL 4G Bundle 7 Weekly')\n",
    "                    bundle.append('BTL 4G Bundle 14 Weekly')\n",
    "            elif T1.bundle_name[0] == 'BTL 4G Bundle 7 Weekly':\n",
    "                    bundle.append('BTL 4G Bundle 7 Weekly')\n",
    "                    bundle.append('BTL 4G Bundle 8 Weekly')\n",
    "            else:\n",
    "                if T1.price_point[0] > 35 : # I want to prevent down - selling\n",
    "                    bundle.append(T1.bundle_name[0])\n",
    "                    bundle.append('BTL 4G Bundle 8 Weekly')\n",
    "                else:\n",
    "                    bundle.append('BTL 4G Bundle 7 Weekly')\n",
    "                    bundle.append('BTL 4G Bundle 8 Weekly')\n",
    "        else:     \n",
    "            if T1.price_point[1] > 35:  # I want to prevent down - selling\n",
    "                    bundle.append(T1.bundle_name[0])\n",
    "                    bundle.append(T1.bundle_name[1])\n",
    "            else:\n",
    "                    bundle.append(T1.bundle_name[0])\n",
    "                    bundle.append('BTL 4G Bundle 8 Weekly')# Upselling\n",
    "\n",
    "# we will perform recommendation to customer in labels 2 like this\n",
    "# customer without bundle subscription will be recommend BTL 4G BTL 4G Bundle 7 Weekly  \n",
    "# customer with BTL 4G Bundle 7 Weekly  will be recommend BTL 4G Bundle 8 Weekly \n",
    "# customer with bundle BTL 4G Bundle 8 Weekly  will be recommend BTL 4G Bundle 9 Monthly (Upselling)                   \n",
    "     \n",
    "    if T1.labels[0]== 2:   # cluster 2\n",
    "        bundle.append(T1.labels[0])\n",
    "        if len(T1) == 0 :\n",
    "            bundle.append('BTL 4G Bundle 7 Weekly')\n",
    "            bundle.append('BTL 4G Bundle 8 Weekly')\n",
    "        elif len(T1) == 1 :\n",
    "            if T1.bundle_name[0] == 'BTL 4G Bundle 7 Weekly':\n",
    "                    bundle.append('BTL 4G Bundle 7 Weekly')\n",
    "                    bundle.append('BTL 4G Bundle 8 Weekly')\n",
    "            elif T1.bundle_name[0] == 'BTL 4G Bundle 8 Weekly':\n",
    "                    bundle.append('BTL 4G Bundle 8 Weekly')\n",
    "                    bundle.append('BTL 4G Bundle 9 Weekly')\n",
    "            else:\n",
    "                if T1.price_point[0] > 50 : # I want to prevent down - selling\n",
    "                    bundle.append(T1.bundle_name[0])\n",
    "                    bundle.append('BTL 4G Bundle 9 Weekly')\n",
    "                else:\n",
    "                    bundle.append('BTL 4G Bundle 8 Weekly')\n",
    "                    bundle.append('BTL 4G Bundle 9 Weekly')\n",
    "        else:     \n",
    "            if T1.price_point[1] > 50:  # I want to prevent down - selling\n",
    "                    bundle.append(T1.bundle_name[0])\n",
    "                    bundle.append(T1.bundle_name[1])\n",
    "            else:\n",
    "                    bundle.append(T1.bundle_name[0])\n",
    "                    bundle.append('BTL 4G Bundle 8 Weekly')# Upselling\n",
    "                    \n",
    "    return bundle\n",
    "\n",
    "    \n",
    " \n",
    "\n",
    "\n"
   ]
  },
  {
   "cell_type": "code",
   "execution_count": 18,
   "metadata": {},
   "outputs": [
    {
     "data": {
      "text/html": [
       "<div>\n",
       "<style scoped>\n",
       "    .dataframe tbody tr th:only-of-type {\n",
       "        vertical-align: middle;\n",
       "    }\n",
       "\n",
       "    .dataframe tbody tr th {\n",
       "        vertical-align: top;\n",
       "    }\n",
       "\n",
       "    .dataframe thead th {\n",
       "        text-align: right;\n",
       "    }\n",
       "</style>\n",
       "<table border=\"1\" class=\"dataframe\">\n",
       "  <thead>\n",
       "    <tr style=\"text-align: right;\">\n",
       "      <th></th>\n",
       "      <th>labels</th>\n",
       "      <th>bundle_name</th>\n",
       "      <th>price_point</th>\n",
       "      <th>msisdn_id</th>\n",
       "    </tr>\n",
       "  </thead>\n",
       "  <tbody>\n",
       "    <tr>\n",
       "      <th>0</th>\n",
       "      <td>1</td>\n",
       "      <td>BTL 4G Bundle 9 Monthly</td>\n",
       "      <td>72.727273</td>\n",
       "      <td>4</td>\n",
       "    </tr>\n",
       "    <tr>\n",
       "      <th>1</th>\n",
       "      <td>1</td>\n",
       "      <td>BTL 4G Bundle 8 Weekly</td>\n",
       "      <td>50.909091</td>\n",
       "      <td>1</td>\n",
       "    </tr>\n",
       "  </tbody>\n",
       "</table>\n",
       "</div>"
      ],
      "text/plain": [
       "   labels              bundle_name  price_point  msisdn_id\n",
       "0       1  BTL 4G Bundle 9 Monthly    72.727273          4\n",
       "1       1   BTL 4G Bundle 8 Weekly    50.909091          1"
      ]
     },
     "execution_count": 18,
     "metadata": {},
     "output_type": "execute_result"
    }
   ],
   "source": [
    "num = 36\n",
    "t = df_kmeans_bundle[df_kmeans_bundle.msisdn_id==num].head().reset_index()\n",
    "T1 = t.groupby(['labels','bundle_name','price_point'],dropna=False)['msisdn_id'].count().nlargest(2).reset_index()\n",
    "T1"
   ]
  },
  {
   "cell_type": "code",
   "execution_count": 19,
   "metadata": {},
   "outputs": [
    {
     "data": {
      "text/plain": [
       "[1, 'BTL 4G Bundle 9 Monthly', 'BTL 4G Bundle 8 Weekly']"
      ]
     },
     "execution_count": 19,
     "metadata": {},
     "output_type": "execute_result"
    }
   ],
   "source": [
    "# reco result are segment,bundle 1, bundle 2\n",
    "reco(36)"
   ]
  },
  {
   "cell_type": "code",
   "execution_count": null,
   "metadata": {},
   "outputs": [],
   "source": []
  }
 ],
 "metadata": {
  "kernelspec": {
   "display_name": "Python 3",
   "language": "python",
   "name": "python3"
  },
  "language_info": {
   "codemirror_mode": {
    "name": "ipython",
    "version": 3
   },
   "file_extension": ".py",
   "mimetype": "text/x-python",
   "name": "python",
   "nbconvert_exporter": "python",
   "pygments_lexer": "ipython3",
   "version": "3.7.2"
  },
  "toc": {
   "base_numbering": 1,
   "nav_menu": {},
   "number_sections": true,
   "sideBar": true,
   "skip_h1_title": false,
   "title_cell": "Table of Contents",
   "title_sidebar": "Contents",
   "toc_cell": false,
   "toc_position": {},
   "toc_section_display": true,
   "toc_window_display": false
  },
  "varInspector": {
   "cols": {
    "lenName": 16,
    "lenType": 16,
    "lenVar": 40
   },
   "kernels_config": {
    "python": {
     "delete_cmd_postfix": "",
     "delete_cmd_prefix": "del ",
     "library": "var_list.py",
     "varRefreshCmd": "print(var_dic_list())"
    },
    "r": {
     "delete_cmd_postfix": ") ",
     "delete_cmd_prefix": "rm(",
     "library": "var_list.r",
     "varRefreshCmd": "cat(var_dic_list()) "
    }
   },
   "types_to_exclude": [
    "module",
    "function",
    "builtin_function_or_method",
    "instance",
    "_Feature"
   ],
   "window_display": false
  }
 },
 "nbformat": 4,
 "nbformat_minor": 2
}
