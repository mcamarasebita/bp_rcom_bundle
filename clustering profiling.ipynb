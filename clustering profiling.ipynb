{
 "cells": [
  {
   "cell_type": "code",
   "execution_count": 3,
   "metadata": {
    "colab": {
     "base_uri": "https://localhost:8080/"
    },
    "executionInfo": {
     "elapsed": 2051,
     "status": "ok",
     "timestamp": 1663884352424,
     "user": {
      "displayName": "camara moussa",
      "userId": "12832588644634301894"
     },
     "user_tz": 0
    },
    "id": "2G6i_w6bF4OH",
    "outputId": "31a14954-d143-41df-a457-e53f151ad4a5"
   },
   "outputs": [
    {
     "name": "stdout",
     "output_type": "stream",
     "text": [
      "Drive already mounted at /content/drive; to attempt to forcibly remount, call drive.mount(\"/content/drive\", force_remount=True).\n"
     ]
    }
   ],
   "source": [
    "from google.colab import drive\n",
    "drive.mount('/content/drive')"
   ]
  },
  {
   "cell_type": "code",
   "execution_count": 4,
   "metadata": {
    "executionInfo": {
     "elapsed": 5,
     "status": "ok",
     "timestamp": 1663884352425,
     "user": {
      "displayName": "camara moussa",
      "userId": "12832588644634301894"
     },
     "user_tz": 0
    },
    "id": "WoSuP9OJFsss"
   },
   "outputs": [],
   "source": [
    "import pandas  as pd\n",
    "\n",
    "from sklearn.cluster import DBSCAN, AgglomerativeClustering, KMeans\n",
    "from scipy.cluster.hierarchy import dendrogram, linkage, fcluster\n",
    "from sklearn import preprocessing\n",
    "\n",
    "import matplotlib.pyplot as plt\n",
    "from matplotlib.collections import LineCollection\n",
    "import numpy as np\n",
    "import pandas as pd\n",
    "from scipy.cluster.hierarchy import dendrogram\n",
    "from pandas.plotting import parallel_coordinates\n",
    "import seaborn as sns\n",
    "\n",
    "\n",
    "\n",
    "import missingno as msno\n",
    "%matplotlib inline\n",
    "\n",
    "import time"
   ]
  },
  {
   "cell_type": "markdown",
   "metadata": {
    "id": "E7PzM9scFssw"
   },
   "source": [
    "# Import   Dataset Detailed ADS"
   ]
  },
  {
   "cell_type": "code",
   "execution_count": 5,
   "metadata": {
    "colab": {
     "base_uri": "https://localhost:8080/",
     "height": 300
    },
    "executionInfo": {
     "elapsed": 29737,
     "status": "ok",
     "timestamp": 1663884382158,
     "user": {
      "displayName": "camara moussa",
      "userId": "12832588644634301894"
     },
     "user_tz": 0
    },
    "id": "0tEtpcnsFssx",
    "outputId": "1b000daf-87a8-4f49-e46a-675e93d0ed82"
   },
   "outputs": [
    {
     "data": {
      "text/html": [
       "\n",
       "  <div id=\"df-ba10ccd5-b40b-4527-9ae1-3f00271a5d44\">\n",
       "    <div class=\"colab-df-container\">\n",
       "      <div>\n",
       "<style scoped>\n",
       "    .dataframe tbody tr th:only-of-type {\n",
       "        vertical-align: middle;\n",
       "    }\n",
       "\n",
       "    .dataframe tbody tr th {\n",
       "        vertical-align: top;\n",
       "    }\n",
       "\n",
       "    .dataframe thead th {\n",
       "        text-align: right;\n",
       "    }\n",
       "</style>\n",
       "<table border=\"1\" class=\"dataframe\">\n",
       "  <thead>\n",
       "    <tr style=\"text-align: right;\">\n",
       "      <th></th>\n",
       "      <th>msisdn_id</th>\n",
       "      <th>VALSEG_NEW_202111</th>\n",
       "      <th>TENURE</th>\n",
       "      <th>SERVICE_CLASS_ID</th>\n",
       "      <th>RGA_ACTIVE_4W</th>\n",
       "      <th>RGA_ACTIVE_2W</th>\n",
       "      <th>RGA_ACTIVE_1W</th>\n",
       "      <th>ACTIVE_7D</th>\n",
       "      <th>CHURN_7D</th>\n",
       "      <th>CITY</th>\n",
       "      <th>...</th>\n",
       "      <th>REV_TOTAL_M3</th>\n",
       "      <th>REV_TOTAL_M4</th>\n",
       "      <th>REV_TOTAL_M5</th>\n",
       "      <th>REV_TOTAL_M6</th>\n",
       "      <th>REV_TOTAL_W1</th>\n",
       "      <th>REV_TOTAL_W2</th>\n",
       "      <th>REV_TOTAL_W3</th>\n",
       "      <th>REV_TOTAL_W4</th>\n",
       "      <th>REV_TOTAL_W5</th>\n",
       "      <th>REV_TOTAL_W6</th>\n",
       "    </tr>\n",
       "  </thead>\n",
       "  <tbody>\n",
       "    <tr>\n",
       "      <th>0</th>\n",
       "      <td>1</td>\n",
       "      <td>3.M</td>\n",
       "      <td>6.30</td>\n",
       "      <td>34</td>\n",
       "      <td>1</td>\n",
       "      <td>1</td>\n",
       "      <td>0</td>\n",
       "      <td>0</td>\n",
       "      <td>0</td>\n",
       "      <td>Baghdad</td>\n",
       "      <td>...</td>\n",
       "      <td>13.418182</td>\n",
       "      <td>26.450909</td>\n",
       "      <td>126.705455</td>\n",
       "      <td>43.883636</td>\n",
       "      <td>0.000000</td>\n",
       "      <td>1.861818</td>\n",
       "      <td>1.265455</td>\n",
       "      <td>13.789091</td>\n",
       "      <td>6.909091</td>\n",
       "      <td>6.734545</td>\n",
       "    </tr>\n",
       "    <tr>\n",
       "      <th>1</th>\n",
       "      <td>2</td>\n",
       "      <td>5.VL</td>\n",
       "      <td>22.83</td>\n",
       "      <td>4</td>\n",
       "      <td>1</td>\n",
       "      <td>1</td>\n",
       "      <td>1</td>\n",
       "      <td>1</td>\n",
       "      <td>0</td>\n",
       "      <td>Baghdad</td>\n",
       "      <td>...</td>\n",
       "      <td>0.000000</td>\n",
       "      <td>0.072727</td>\n",
       "      <td>0.000000</td>\n",
       "      <td>0.000000</td>\n",
       "      <td>22.007273</td>\n",
       "      <td>0.000000</td>\n",
       "      <td>NaN</td>\n",
       "      <td>0.000000</td>\n",
       "      <td>0.000000</td>\n",
       "      <td>NaN</td>\n",
       "    </tr>\n",
       "    <tr>\n",
       "      <th>2</th>\n",
       "      <td>3</td>\n",
       "      <td>2.H</td>\n",
       "      <td>155.80</td>\n",
       "      <td>9</td>\n",
       "      <td>1</td>\n",
       "      <td>1</td>\n",
       "      <td>1</td>\n",
       "      <td>1</td>\n",
       "      <td>0</td>\n",
       "      <td>Baghdad</td>\n",
       "      <td>...</td>\n",
       "      <td>41.345455</td>\n",
       "      <td>219.650909</td>\n",
       "      <td>270.632727</td>\n",
       "      <td>268.676364</td>\n",
       "      <td>7.069091</td>\n",
       "      <td>3.236364</td>\n",
       "      <td>220.196364</td>\n",
       "      <td>104.683636</td>\n",
       "      <td>4.901818</td>\n",
       "      <td>13.152727</td>\n",
       "    </tr>\n",
       "    <tr>\n",
       "      <th>3</th>\n",
       "      <td>4</td>\n",
       "      <td>1.HH</td>\n",
       "      <td>38.90</td>\n",
       "      <td>34</td>\n",
       "      <td>1</td>\n",
       "      <td>1</td>\n",
       "      <td>1</td>\n",
       "      <td>1</td>\n",
       "      <td>0</td>\n",
       "      <td>Suly</td>\n",
       "      <td>...</td>\n",
       "      <td>773.578182</td>\n",
       "      <td>778.589091</td>\n",
       "      <td>627.381818</td>\n",
       "      <td>512.509091</td>\n",
       "      <td>331.098182</td>\n",
       "      <td>84.967273</td>\n",
       "      <td>363.207273</td>\n",
       "      <td>134.807273</td>\n",
       "      <td>136.640000</td>\n",
       "      <td>160.400000</td>\n",
       "    </tr>\n",
       "    <tr>\n",
       "      <th>4</th>\n",
       "      <td>5</td>\n",
       "      <td>3.M</td>\n",
       "      <td>157.27</td>\n",
       "      <td>13</td>\n",
       "      <td>1</td>\n",
       "      <td>1</td>\n",
       "      <td>1</td>\n",
       "      <td>1</td>\n",
       "      <td>0</td>\n",
       "      <td>Baghdad</td>\n",
       "      <td>...</td>\n",
       "      <td>71.330909</td>\n",
       "      <td>22.560000</td>\n",
       "      <td>0.000000</td>\n",
       "      <td>21.789091</td>\n",
       "      <td>0.727273</td>\n",
       "      <td>0.000000</td>\n",
       "      <td>3.490909</td>\n",
       "      <td>78.545455</td>\n",
       "      <td>-127.272727</td>\n",
       "      <td>18.880000</td>\n",
       "    </tr>\n",
       "  </tbody>\n",
       "</table>\n",
       "<p>5 rows × 472 columns</p>\n",
       "</div>\n",
       "      <button class=\"colab-df-convert\" onclick=\"convertToInteractive('df-ba10ccd5-b40b-4527-9ae1-3f00271a5d44')\"\n",
       "              title=\"Convert this dataframe to an interactive table.\"\n",
       "              style=\"display:none;\">\n",
       "        \n",
       "  <svg xmlns=\"http://www.w3.org/2000/svg\" height=\"24px\"viewBox=\"0 0 24 24\"\n",
       "       width=\"24px\">\n",
       "    <path d=\"M0 0h24v24H0V0z\" fill=\"none\"/>\n",
       "    <path d=\"M18.56 5.44l.94 2.06.94-2.06 2.06-.94-2.06-.94-.94-2.06-.94 2.06-2.06.94zm-11 1L8.5 8.5l.94-2.06 2.06-.94-2.06-.94L8.5 2.5l-.94 2.06-2.06.94zm10 10l.94 2.06.94-2.06 2.06-.94-2.06-.94-.94-2.06-.94 2.06-2.06.94z\"/><path d=\"M17.41 7.96l-1.37-1.37c-.4-.4-.92-.59-1.43-.59-.52 0-1.04.2-1.43.59L10.3 9.45l-7.72 7.72c-.78.78-.78 2.05 0 2.83L4 21.41c.39.39.9.59 1.41.59.51 0 1.02-.2 1.41-.59l7.78-7.78 2.81-2.81c.8-.78.8-2.07 0-2.86zM5.41 20L4 18.59l7.72-7.72 1.47 1.35L5.41 20z\"/>\n",
       "  </svg>\n",
       "      </button>\n",
       "      \n",
       "  <style>\n",
       "    .colab-df-container {\n",
       "      display:flex;\n",
       "      flex-wrap:wrap;\n",
       "      gap: 12px;\n",
       "    }\n",
       "\n",
       "    .colab-df-convert {\n",
       "      background-color: #E8F0FE;\n",
       "      border: none;\n",
       "      border-radius: 50%;\n",
       "      cursor: pointer;\n",
       "      display: none;\n",
       "      fill: #1967D2;\n",
       "      height: 32px;\n",
       "      padding: 0 0 0 0;\n",
       "      width: 32px;\n",
       "    }\n",
       "\n",
       "    .colab-df-convert:hover {\n",
       "      background-color: #E2EBFA;\n",
       "      box-shadow: 0px 1px 2px rgba(60, 64, 67, 0.3), 0px 1px 3px 1px rgba(60, 64, 67, 0.15);\n",
       "      fill: #174EA6;\n",
       "    }\n",
       "\n",
       "    [theme=dark] .colab-df-convert {\n",
       "      background-color: #3B4455;\n",
       "      fill: #D2E3FC;\n",
       "    }\n",
       "\n",
       "    [theme=dark] .colab-df-convert:hover {\n",
       "      background-color: #434B5C;\n",
       "      box-shadow: 0px 1px 3px 1px rgba(0, 0, 0, 0.15);\n",
       "      filter: drop-shadow(0px 1px 2px rgba(0, 0, 0, 0.3));\n",
       "      fill: #FFFFFF;\n",
       "    }\n",
       "  </style>\n",
       "\n",
       "      <script>\n",
       "        const buttonEl =\n",
       "          document.querySelector('#df-ba10ccd5-b40b-4527-9ae1-3f00271a5d44 button.colab-df-convert');\n",
       "        buttonEl.style.display =\n",
       "          google.colab.kernel.accessAllowed ? 'block' : 'none';\n",
       "\n",
       "        async function convertToInteractive(key) {\n",
       "          const element = document.querySelector('#df-ba10ccd5-b40b-4527-9ae1-3f00271a5d44');\n",
       "          const dataTable =\n",
       "            await google.colab.kernel.invokeFunction('convertToInteractive',\n",
       "                                                     [key], {});\n",
       "          if (!dataTable) return;\n",
       "\n",
       "          const docLinkHtml = 'Like what you see? Visit the ' +\n",
       "            '<a target=\"_blank\" href=https://colab.research.google.com/notebooks/data_table.ipynb>data table notebook</a>'\n",
       "            + ' to learn more about interactive tables.';\n",
       "          element.innerHTML = '';\n",
       "          dataTable['output_type'] = 'display_data';\n",
       "          await google.colab.output.renderOutput(dataTable, element);\n",
       "          const docLink = document.createElement('div');\n",
       "          docLink.innerHTML = docLinkHtml;\n",
       "          element.appendChild(docLink);\n",
       "        }\n",
       "      </script>\n",
       "    </div>\n",
       "  </div>\n",
       "  "
      ],
      "text/plain": [
       "   msisdn_id VALSEG_NEW_202111  TENURE  SERVICE_CLASS_ID  RGA_ACTIVE_4W  \\\n",
       "0          1               3.M    6.30                34              1   \n",
       "1          2              5.VL   22.83                 4              1   \n",
       "2          3               2.H  155.80                 9              1   \n",
       "3          4              1.HH   38.90                34              1   \n",
       "4          5               3.M  157.27                13              1   \n",
       "\n",
       "   RGA_ACTIVE_2W  RGA_ACTIVE_1W  ACTIVE_7D  CHURN_7D     CITY  ...  \\\n",
       "0              1              0          0         0  Baghdad  ...   \n",
       "1              1              1          1         0  Baghdad  ...   \n",
       "2              1              1          1         0  Baghdad  ...   \n",
       "3              1              1          1         0     Suly  ...   \n",
       "4              1              1          1         0  Baghdad  ...   \n",
       "\n",
       "  REV_TOTAL_M3  REV_TOTAL_M4  REV_TOTAL_M5  REV_TOTAL_M6  REV_TOTAL_W1  \\\n",
       "0    13.418182     26.450909    126.705455     43.883636      0.000000   \n",
       "1     0.000000      0.072727      0.000000      0.000000     22.007273   \n",
       "2    41.345455    219.650909    270.632727    268.676364      7.069091   \n",
       "3   773.578182    778.589091    627.381818    512.509091    331.098182   \n",
       "4    71.330909     22.560000      0.000000     21.789091      0.727273   \n",
       "\n",
       "   REV_TOTAL_W2  REV_TOTAL_W3  REV_TOTAL_W4  REV_TOTAL_W5  REV_TOTAL_W6  \n",
       "0      1.861818      1.265455     13.789091      6.909091      6.734545  \n",
       "1      0.000000           NaN      0.000000      0.000000           NaN  \n",
       "2      3.236364    220.196364    104.683636      4.901818     13.152727  \n",
       "3     84.967273    363.207273    134.807273    136.640000    160.400000  \n",
       "4      0.000000      3.490909     78.545455   -127.272727     18.880000  \n",
       "\n",
       "[5 rows x 472 columns]"
      ]
     },
     "execution_count": 5,
     "metadata": {},
     "output_type": "execute_result"
    }
   ],
   "source": [
    "df_Detailed_ADS = pd.read_csv('/content/drive/MyDrive/Assignment/Detailed ADS.csv',sep = ',')\n",
    "df_Detailed_ADS.head()"
   ]
  },
  {
   "cell_type": "markdown",
   "metadata": {
    "id": "Px-7wOTVFssz"
   },
   "source": [
    "# Choose Best Feature  for the clustering"
   ]
  },
  {
   "cell_type": "code",
   "execution_count": 6,
   "metadata": {
    "executionInfo": {
     "elapsed": 8,
     "status": "ok",
     "timestamp": 1663884382158,
     "user": {
      "displayName": "camara moussa",
      "userId": "12832588644634301894"
     },
     "user_tz": 0
    },
    "id": "7taD5O6MFssz"
   },
   "outputs": [],
   "source": [
    "df_clustering = df_Detailed_ADS[['CITY','data_usage_segment','REV_DATA_TOT_M3',  \n",
    "                                 'REV_DATA_BUNDLE_M3','RECHARGE_AMT_M3','VALSEG_NEW_202111','CUST_TYPE',  \n",
    "                                 'RGA_ACTIVE_4W','DATA_CHRG_VOL_GB_M3','DATA_FREE_VOL_GB_M3',  \n",
    "                                  'DATA_TOTAL_VOL_GB_M3','REV_OG_CALL_PAYG_M3','REV_TOTAL_M3']]"
   ]
  },
  {
   "cell_type": "markdown",
   "metadata": {
    "id": "cYI9p4amFssz"
   },
   "source": [
    "# HAndling Missing Data"
   ]
  },
  {
   "cell_type": "code",
   "execution_count": 7,
   "metadata": {
    "colab": {
     "base_uri": "https://localhost:8080/"
    },
    "executionInfo": {
     "elapsed": 8,
     "status": "ok",
     "timestamp": 1663884382159,
     "user": {
      "displayName": "camara moussa",
      "userId": "12832588644634301894"
     },
     "user_tz": 0
    },
    "id": "V7DRw5mWFss0",
    "outputId": "cc7196ae-e98f-4dc6-93c8-8f94e0fe1df6"
   },
   "outputs": [
    {
     "data": {
      "text/plain": [
       "CITY                      5005\n",
       "data_usage_segment           0\n",
       "REV_DATA_TOT_M3          15758\n",
       "REV_DATA_BUNDLE_M3      431380\n",
       "RECHARGE_AMT_M3         173092\n",
       "VALSEG_NEW_202111          188\n",
       "CUST_TYPE                    0\n",
       "RGA_ACTIVE_4W                0\n",
       "DATA_CHRG_VOL_GB_M3      15766\n",
       "DATA_FREE_VOL_GB_M3      15766\n",
       "DATA_TOTAL_VOL_GB_M3     15766\n",
       "REV_OG_CALL_PAYG_M3      15758\n",
       "REV_TOTAL_M3             15758\n",
       "dtype: int64"
      ]
     },
     "execution_count": 7,
     "metadata": {},
     "output_type": "execute_result"
    }
   ],
   "source": [
    "df_clustering.isnull().sum()"
   ]
  },
  {
   "cell_type": "code",
   "execution_count": 7,
   "metadata": {
    "executionInfo": {
     "elapsed": 6,
     "status": "ok",
     "timestamp": 1663884382159,
     "user": {
      "displayName": "camara moussa",
      "userId": "12832588644634301894"
     },
     "user_tz": 0
    },
    "id": "ERDEvwVcFss0"
   },
   "outputs": [],
   "source": []
  },
  {
   "cell_type": "code",
   "execution_count": 8,
   "metadata": {
    "colab": {
     "base_uri": "https://localhost:8080/",
     "height": 403
    },
    "executionInfo": {
     "elapsed": 2014,
     "status": "ok",
     "timestamp": 1663884384168,
     "user": {
      "displayName": "camara moussa",
      "userId": "12832588644634301894"
     },
     "user_tz": 0
    },
    "id": "Ni0PC4huFss1",
    "outputId": "b267ac60-abd0-4371-c8a7-815ce8e9ec67"
   },
   "outputs": [
    {
     "data": {
      "text/plain": [
       "<matplotlib.axes._subplots.AxesSubplot at 0x7f53c34d6610>"
      ]
     },
     "execution_count": 8,
     "metadata": {},
     "output_type": "execute_result"
    },
    {
     "data": {
      "image/png": "[encoded data removed]",
      "text/plain": [
       "<Figure size 1800x720 with 2 Axes>"
      ]
     },
     "metadata": {
      "needs_background": "light"
     },
     "output_type": "display_data"
    }
   ],
   "source": [
    "#Gives positional information of the missing values\n",
    "msno.matrix(df_clustering)"
   ]
  },
  {
   "cell_type": "code",
   "execution_count": 9,
   "metadata": {
    "executionInfo": {
     "elapsed": 20,
     "status": "ok",
     "timestamp": 1663884384169,
     "user": {
      "displayName": "camara moussa",
      "userId": "12832588644634301894"
     },
     "user_tz": 0
    },
    "id": "N55tiMa-Fss2"
   },
   "outputs": [],
   "source": [
    "# As we can see REV_DATA_BUNDLE_M3 and RECHARGE_AMT_M3 have many missing value we remove them form data fraùe"
   ]
  },
  {
   "cell_type": "code",
   "execution_count": 10,
   "metadata": {
    "colab": {
     "base_uri": "https://localhost:8080/",
     "height": 270
    },
    "executionInfo": {
     "elapsed": 21,
     "status": "ok",
     "timestamp": 1663884384171,
     "user": {
      "displayName": "camara moussa",
      "userId": "12832588644634301894"
     },
     "user_tz": 0
    },
    "id": "aJJPmYCaFss2",
    "outputId": "450f0d8a-b9bf-447e-d738-78e1692010a7"
   },
   "outputs": [
    {
     "data": {
      "text/html": [
       "\n",
       "  <div id=\"df-e8b20847-a161-4b3e-aa56-e77aa228d751\">\n",
       "    <div class=\"colab-df-container\">\n",
       "      <div>\n",
       "<style scoped>\n",
       "    .dataframe tbody tr th:only-of-type {\n",
       "        vertical-align: middle;\n",
       "    }\n",
       "\n",
       "    .dataframe tbody tr th {\n",
       "        vertical-align: top;\n",
       "    }\n",
       "\n",
       "    .dataframe thead th {\n",
       "        text-align: right;\n",
       "    }\n",
       "</style>\n",
       "<table border=\"1\" class=\"dataframe\">\n",
       "  <thead>\n",
       "    <tr style=\"text-align: right;\">\n",
       "      <th></th>\n",
       "      <th>CITY</th>\n",
       "      <th>data_usage_segment</th>\n",
       "      <th>REV_DATA_TOT_M3</th>\n",
       "      <th>VALSEG_NEW_202111</th>\n",
       "      <th>CUST_TYPE</th>\n",
       "      <th>RGA_ACTIVE_4W</th>\n",
       "      <th>DATA_CHRG_VOL_GB_M3</th>\n",
       "      <th>DATA_FREE_VOL_GB_M3</th>\n",
       "      <th>DATA_TOTAL_VOL_GB_M3</th>\n",
       "      <th>REV_OG_CALL_PAYG_M3</th>\n",
       "      <th>REV_TOTAL_M3</th>\n",
       "    </tr>\n",
       "  </thead>\n",
       "  <tbody>\n",
       "    <tr>\n",
       "      <th>0</th>\n",
       "      <td>Baghdad</td>\n",
       "      <td>VL</td>\n",
       "      <td>0.000000</td>\n",
       "      <td>3.M</td>\n",
       "      <td>consumer</td>\n",
       "      <td>1</td>\n",
       "      <td>0.0</td>\n",
       "      <td>0.000000</td>\n",
       "      <td>0.000000</td>\n",
       "      <td>12.965818</td>\n",
       "      <td>13.418182</td>\n",
       "    </tr>\n",
       "    <tr>\n",
       "      <th>1</th>\n",
       "      <td>Baghdad</td>\n",
       "      <td>Non</td>\n",
       "      <td>0.000000</td>\n",
       "      <td>5.VL</td>\n",
       "      <td>consumer</td>\n",
       "      <td>1</td>\n",
       "      <td>0.0</td>\n",
       "      <td>0.000000</td>\n",
       "      <td>0.000000</td>\n",
       "      <td>0.000000</td>\n",
       "      <td>0.000000</td>\n",
       "    </tr>\n",
       "    <tr>\n",
       "      <th>2</th>\n",
       "      <td>Baghdad</td>\n",
       "      <td>Non</td>\n",
       "      <td>0.000000</td>\n",
       "      <td>2.H</td>\n",
       "      <td>consumer</td>\n",
       "      <td>1</td>\n",
       "      <td>0.0</td>\n",
       "      <td>0.000000</td>\n",
       "      <td>0.000000</td>\n",
       "      <td>41.363636</td>\n",
       "      <td>41.345455</td>\n",
       "    </tr>\n",
       "    <tr>\n",
       "      <th>3</th>\n",
       "      <td>Suly</td>\n",
       "      <td>Ext. High</td>\n",
       "      <td>261.818182</td>\n",
       "      <td>1.HH</td>\n",
       "      <td>consumer</td>\n",
       "      <td>1</td>\n",
       "      <td>0.0</td>\n",
       "      <td>11.995288</td>\n",
       "      <td>11.995288</td>\n",
       "      <td>500.794182</td>\n",
       "      <td>773.578182</td>\n",
       "    </tr>\n",
       "    <tr>\n",
       "      <th>4</th>\n",
       "      <td>Baghdad</td>\n",
       "      <td>L</td>\n",
       "      <td>0.000000</td>\n",
       "      <td>3.M</td>\n",
       "      <td>consumer</td>\n",
       "      <td>1</td>\n",
       "      <td>0.0</td>\n",
       "      <td>0.000001</td>\n",
       "      <td>0.000001</td>\n",
       "      <td>14.894545</td>\n",
       "      <td>71.330909</td>\n",
       "    </tr>\n",
       "  </tbody>\n",
       "</table>\n",
       "</div>\n",
       "      <button class=\"colab-df-convert\" onclick=\"convertToInteractive('df-e8b20847-a161-4b3e-aa56-e77aa228d751')\"\n",
       "              title=\"Convert this dataframe to an interactive table.\"\n",
       "              style=\"display:none;\">\n",
       "        \n",
       "  <svg xmlns=\"http://www.w3.org/2000/svg\" height=\"24px\"viewBox=\"0 0 24 24\"\n",
       "       width=\"24px\">\n",
       "    <path d=\"M0 0h24v24H0V0z\" fill=\"none\"/>\n",
       "    <path d=\"M18.56 5.44l.94 2.06.94-2.06 2.06-.94-2.06-.94-.94-2.06-.94 2.06-2.06.94zm-11 1L8.5 8.5l.94-2.06 2.06-.94-2.06-.94L8.5 2.5l-.94 2.06-2.06.94zm10 10l.94 2.06.94-2.06 2.06-.94-2.06-.94-.94-2.06-.94 2.06-2.06.94z\"/><path d=\"M17.41 7.96l-1.37-1.37c-.4-.4-.92-.59-1.43-.59-.52 0-1.04.2-1.43.59L10.3 9.45l-7.72 7.72c-.78.78-.78 2.05 0 2.83L4 21.41c.39.39.9.59 1.41.59.51 0 1.02-.2 1.41-.59l7.78-7.78 2.81-2.81c.8-.78.8-2.07 0-2.86zM5.41 20L4 18.59l7.72-7.72 1.47 1.35L5.41 20z\"/>\n",
       "  </svg>\n",
       "      </button>\n",
       "      \n",
       "  <style>\n",
       "    .colab-df-container {\n",
       "      display:flex;\n",
       "      flex-wrap:wrap;\n",
       "      gap: 12px;\n",
       "    }\n",
       "\n",
       "    .colab-df-convert {\n",
       "      background-color: #E8F0FE;\n",
       "      border: none;\n",
       "      border-radius: 50%;\n",
       "      cursor: pointer;\n",
       "      display: none;\n",
       "      fill: #1967D2;\n",
       "      height: 32px;\n",
       "      padding: 0 0 0 0;\n",
       "      width: 32px;\n",
       "    }\n",
       "\n",
       "    .colab-df-convert:hover {\n",
       "      background-color: #E2EBFA;\n",
       "      box-shadow: 0px 1px 2px rgba(60, 64, 67, 0.3), 0px 1px 3px 1px rgba(60, 64, 67, 0.15);\n",
       "      fill: #174EA6;\n",
       "    }\n",
       "\n",
       "    [theme=dark] .colab-df-convert {\n",
       "      background-color: #3B4455;\n",
       "      fill: #D2E3FC;\n",
       "    }\n",
       "\n",
       "    [theme=dark] .colab-df-convert:hover {\n",
       "      background-color: #434B5C;\n",
       "      box-shadow: 0px 1px 3px 1px rgba(0, 0, 0, 0.15);\n",
       "      filter: drop-shadow(0px 1px 2px rgba(0, 0, 0, 0.3));\n",
       "      fill: #FFFFFF;\n",
       "    }\n",
       "  </style>\n",
       "\n",
       "      <script>\n",
       "        const buttonEl =\n",
       "          document.querySelector('#df-e8b20847-a161-4b3e-aa56-e77aa228d751 button.colab-df-convert');\n",
       "        buttonEl.style.display =\n",
       "          google.colab.kernel.accessAllowed ? 'block' : 'none';\n",
       "\n",
       "        async function convertToInteractive(key) {\n",
       "          const element = document.querySelector('#df-e8b20847-a161-4b3e-aa56-e77aa228d751');\n",
       "          const dataTable =\n",
       "            await google.colab.kernel.invokeFunction('convertToInteractive',\n",
       "                                                     [key], {});\n",
       "          if (!dataTable) return;\n",
       "\n",
       "          const docLinkHtml = 'Like what you see? Visit the ' +\n",
       "            '<a target=\"_blank\" href=https://colab.research.google.com/notebooks/data_table.ipynb>data table notebook</a>'\n",
       "            + ' to learn more about interactive tables.';\n",
       "          element.innerHTML = '';\n",
       "          dataTable['output_type'] = 'display_data';\n",
       "          await google.colab.output.renderOutput(dataTable, element);\n",
       "          const docLink = document.createElement('div');\n",
       "          docLink.innerHTML = docLinkHtml;\n",
       "          element.appendChild(docLink);\n",
       "        }\n",
       "      </script>\n",
       "    </div>\n",
       "  </div>\n",
       "  "
      ],
      "text/plain": [
       "      CITY data_usage_segment  REV_DATA_TOT_M3 VALSEG_NEW_202111 CUST_TYPE  \\\n",
       "0  Baghdad                 VL         0.000000               3.M  consumer   \n",
       "1  Baghdad                Non         0.000000              5.VL  consumer   \n",
       "2  Baghdad                Non         0.000000               2.H  consumer   \n",
       "3     Suly          Ext. High       261.818182              1.HH  consumer   \n",
       "4  Baghdad                  L         0.000000               3.M  consumer   \n",
       "\n",
       "   RGA_ACTIVE_4W  DATA_CHRG_VOL_GB_M3  DATA_FREE_VOL_GB_M3  \\\n",
       "0              1                  0.0             0.000000   \n",
       "1              1                  0.0             0.000000   \n",
       "2              1                  0.0             0.000000   \n",
       "3              1                  0.0            11.995288   \n",
       "4              1                  0.0             0.000001   \n",
       "\n",
       "   DATA_TOTAL_VOL_GB_M3  REV_OG_CALL_PAYG_M3  REV_TOTAL_M3  \n",
       "0              0.000000            12.965818     13.418182  \n",
       "1              0.000000             0.000000      0.000000  \n",
       "2              0.000000            41.363636     41.345455  \n",
       "3             11.995288           500.794182    773.578182  \n",
       "4              0.000001            14.894545     71.330909  "
      ]
     },
     "execution_count": 10,
     "metadata": {},
     "output_type": "execute_result"
    }
   ],
   "source": [
    "df_clustering = df_clustering.drop(['REV_DATA_BUNDLE_M3', 'RECHARGE_AMT_M3'], axis=1)\n",
    "df_clustering.head()"
   ]
  },
  {
   "cell_type": "markdown",
   "metadata": {
    "id": "E7HOGAqkFss3"
   },
   "source": [
    "# Data Describtion"
   ]
  },
  {
   "cell_type": "code",
   "execution_count": 11,
   "metadata": {
    "colab": {
     "base_uri": "https://localhost:8080/"
    },
    "executionInfo": {
     "elapsed": 21,
     "status": "ok",
     "timestamp": 1663884384172,
     "user": {
      "displayName": "camara moussa",
      "userId": "12832588644634301894"
     },
     "user_tz": 0
    },
    "id": "lX-HLpCmFss3",
    "outputId": "62778fb9-a20e-4c56-fc07-e39b70e7471b"
   },
   "outputs": [
    {
     "data": {
      "text/plain": [
       "array(['VL', 'Non', 'Ext. High', 'L', 'M', 'High'], dtype=object)"
      ]
     },
     "execution_count": 11,
     "metadata": {},
     "output_type": "execute_result"
    }
   ],
   "source": [
    "df_clustering.data_usage_segment.unique()"
   ]
  },
  {
   "cell_type": "code",
   "execution_count": 12,
   "metadata": {
    "colab": {
     "base_uri": "https://localhost:8080/"
    },
    "executionInfo": {
     "elapsed": 18,
     "status": "ok",
     "timestamp": 1663884384172,
     "user": {
      "displayName": "camara moussa",
      "userId": "12832588644634301894"
     },
     "user_tz": 0
    },
    "id": "hA4IqGPOFss3",
    "outputId": "d513ccf5-40be-4dc4-b957-ea8d499f5bdd"
   },
   "outputs": [
    {
     "data": {
      "text/plain": [
       "array(['3.M', '5.VL', '2.H', '1.HH', '4.L', '6.NEW', nan], dtype=object)"
      ]
     },
     "execution_count": 12,
     "metadata": {},
     "output_type": "execute_result"
    }
   ],
   "source": [
    "df_clustering.VALSEG_NEW_202111.unique()"
   ]
  },
  {
   "cell_type": "code",
   "execution_count": 13,
   "metadata": {
    "colab": {
     "base_uri": "https://localhost:8080/",
     "height": 458
    },
    "executionInfo": {
     "elapsed": 16,
     "status": "ok",
     "timestamp": 1663884384173,
     "user": {
      "displayName": "camara moussa",
      "userId": "12832588644634301894"
     },
     "user_tz": 0
    },
    "id": "XL6vQlG_Fss4",
    "outputId": "885ed472-4e3f-4345-9c56-5475bc3bf185"
   },
   "outputs": [
    {
     "data": {
      "text/html": [
       "\n",
       "  <div id=\"df-3c7b19a3-dd56-47b8-b845-d4529a371dda\">\n",
       "    <div class=\"colab-df-container\">\n",
       "      <div>\n",
       "<style scoped>\n",
       "    .dataframe tbody tr th:only-of-type {\n",
       "        vertical-align: middle;\n",
       "    }\n",
       "\n",
       "    .dataframe tbody tr th {\n",
       "        vertical-align: top;\n",
       "    }\n",
       "\n",
       "    .dataframe thead th {\n",
       "        text-align: right;\n",
       "    }\n",
       "</style>\n",
       "<table border=\"1\" class=\"dataframe\">\n",
       "  <thead>\n",
       "    <tr style=\"text-align: right;\">\n",
       "      <th></th>\n",
       "      <th>CITY</th>\n",
       "      <th>data_usage_segment</th>\n",
       "      <th>REV_DATA_TOT_M3</th>\n",
       "      <th>VALSEG_NEW_202111</th>\n",
       "      <th>CUST_TYPE</th>\n",
       "      <th>RGA_ACTIVE_4W</th>\n",
       "      <th>DATA_CHRG_VOL_GB_M3</th>\n",
       "      <th>DATA_FREE_VOL_GB_M3</th>\n",
       "      <th>DATA_TOTAL_VOL_GB_M3</th>\n",
       "      <th>REV_OG_CALL_PAYG_M3</th>\n",
       "      <th>REV_TOTAL_M3</th>\n",
       "    </tr>\n",
       "  </thead>\n",
       "  <tbody>\n",
       "    <tr>\n",
       "      <th>count</th>\n",
       "      <td>494995</td>\n",
       "      <td>500000</td>\n",
       "      <td>484242.000000</td>\n",
       "      <td>499812</td>\n",
       "      <td>500000</td>\n",
       "      <td>500000.000000</td>\n",
       "      <td>484234.000000</td>\n",
       "      <td>4.842340e+05</td>\n",
       "      <td>484234.000000</td>\n",
       "      <td>484242.000000</td>\n",
       "      <td>484242.000000</td>\n",
       "    </tr>\n",
       "    <tr>\n",
       "      <th>unique</th>\n",
       "      <td>18</td>\n",
       "      <td>6</td>\n",
       "      <td>NaN</td>\n",
       "      <td>6</td>\n",
       "      <td>2</td>\n",
       "      <td>NaN</td>\n",
       "      <td>NaN</td>\n",
       "      <td>NaN</td>\n",
       "      <td>NaN</td>\n",
       "      <td>NaN</td>\n",
       "      <td>NaN</td>\n",
       "    </tr>\n",
       "    <tr>\n",
       "      <th>top</th>\n",
       "      <td>Baghdad</td>\n",
       "      <td>Non</td>\n",
       "      <td>NaN</td>\n",
       "      <td>5.VL</td>\n",
       "      <td>consumer</td>\n",
       "      <td>NaN</td>\n",
       "      <td>NaN</td>\n",
       "      <td>NaN</td>\n",
       "      <td>NaN</td>\n",
       "      <td>NaN</td>\n",
       "      <td>NaN</td>\n",
       "    </tr>\n",
       "    <tr>\n",
       "      <th>freq</th>\n",
       "      <td>164104</td>\n",
       "      <td>147074</td>\n",
       "      <td>NaN</td>\n",
       "      <td>173862</td>\n",
       "      <td>462136</td>\n",
       "      <td>NaN</td>\n",
       "      <td>NaN</td>\n",
       "      <td>NaN</td>\n",
       "      <td>NaN</td>\n",
       "      <td>NaN</td>\n",
       "      <td>NaN</td>\n",
       "    </tr>\n",
       "    <tr>\n",
       "      <th>mean</th>\n",
       "      <td>NaN</td>\n",
       "      <td>NaN</td>\n",
       "      <td>11.962911</td>\n",
       "      <td>NaN</td>\n",
       "      <td>NaN</td>\n",
       "      <td>0.959614</td>\n",
       "      <td>0.000087</td>\n",
       "      <td>1.576518e+00</td>\n",
       "      <td>1.576605</td>\n",
       "      <td>24.226628</td>\n",
       "      <td>63.720174</td>\n",
       "    </tr>\n",
       "    <tr>\n",
       "      <th>std</th>\n",
       "      <td>NaN</td>\n",
       "      <td>NaN</td>\n",
       "      <td>44.038748</td>\n",
       "      <td>NaN</td>\n",
       "      <td>NaN</td>\n",
       "      <td>0.196863</td>\n",
       "      <td>0.001463</td>\n",
       "      <td>6.754050e+00</td>\n",
       "      <td>6.754089</td>\n",
       "      <td>47.976129</td>\n",
       "      <td>98.234127</td>\n",
       "    </tr>\n",
       "    <tr>\n",
       "      <th>min</th>\n",
       "      <td>NaN</td>\n",
       "      <td>NaN</td>\n",
       "      <td>-6.636364</td>\n",
       "      <td>NaN</td>\n",
       "      <td>NaN</td>\n",
       "      <td>0.000000</td>\n",
       "      <td>0.000000</td>\n",
       "      <td>0.000000e+00</td>\n",
       "      <td>0.000000</td>\n",
       "      <td>0.000000</td>\n",
       "      <td>-171.534546</td>\n",
       "    </tr>\n",
       "    <tr>\n",
       "      <th>25%</th>\n",
       "      <td>NaN</td>\n",
       "      <td>NaN</td>\n",
       "      <td>0.000000</td>\n",
       "      <td>NaN</td>\n",
       "      <td>NaN</td>\n",
       "      <td>1.000000</td>\n",
       "      <td>0.000000</td>\n",
       "      <td>0.000000e+00</td>\n",
       "      <td>0.000000</td>\n",
       "      <td>0.069273</td>\n",
       "      <td>8.378182</td>\n",
       "    </tr>\n",
       "    <tr>\n",
       "      <th>50%</th>\n",
       "      <td>NaN</td>\n",
       "      <td>NaN</td>\n",
       "      <td>0.000000</td>\n",
       "      <td>NaN</td>\n",
       "      <td>NaN</td>\n",
       "      <td>1.000000</td>\n",
       "      <td>0.000000</td>\n",
       "      <td>9.765625e-07</td>\n",
       "      <td>0.000002</td>\n",
       "      <td>9.240000</td>\n",
       "      <td>33.447273</td>\n",
       "    </tr>\n",
       "    <tr>\n",
       "      <th>75%</th>\n",
       "      <td>NaN</td>\n",
       "      <td>NaN</td>\n",
       "      <td>0.000000</td>\n",
       "      <td>NaN</td>\n",
       "      <td>NaN</td>\n",
       "      <td>1.000000</td>\n",
       "      <td>0.000000</td>\n",
       "      <td>2.958684e-01</td>\n",
       "      <td>0.296238</td>\n",
       "      <td>29.749818</td>\n",
       "      <td>72.727273</td>\n",
       "    </tr>\n",
       "    <tr>\n",
       "      <th>max</th>\n",
       "      <td>NaN</td>\n",
       "      <td>NaN</td>\n",
       "      <td>2338.181818</td>\n",
       "      <td>NaN</td>\n",
       "      <td>NaN</td>\n",
       "      <td>1.000000</td>\n",
       "      <td>0.193944</td>\n",
       "      <td>5.085283e+02</td>\n",
       "      <td>508.528270</td>\n",
       "      <td>3581.230546</td>\n",
       "      <td>3907.389091</td>\n",
       "    </tr>\n",
       "  </tbody>\n",
       "</table>\n",
       "</div>\n",
       "      <button class=\"colab-df-convert\" onclick=\"convertToInteractive('df-3c7b19a3-dd56-47b8-b845-d4529a371dda')\"\n",
       "              title=\"Convert this dataframe to an interactive table.\"\n",
       "              style=\"display:none;\">\n",
       "        \n",
       "  <svg xmlns=\"http://www.w3.org/2000/svg\" height=\"24px\"viewBox=\"0 0 24 24\"\n",
       "       width=\"24px\">\n",
       "    <path d=\"M0 0h24v24H0V0z\" fill=\"none\"/>\n",
       "    <path d=\"M18.56 5.44l.94 2.06.94-2.06 2.06-.94-2.06-.94-.94-2.06-.94 2.06-2.06.94zm-11 1L8.5 8.5l.94-2.06 2.06-.94-2.06-.94L8.5 2.5l-.94 2.06-2.06.94zm10 10l.94 2.06.94-2.06 2.06-.94-2.06-.94-.94-2.06-.94 2.06-2.06.94z\"/><path d=\"M17.41 7.96l-1.37-1.37c-.4-.4-.92-.59-1.43-.59-.52 0-1.04.2-1.43.59L10.3 9.45l-7.72 7.72c-.78.78-.78 2.05 0 2.83L4 21.41c.39.39.9.59 1.41.59.51 0 1.02-.2 1.41-.59l7.78-7.78 2.81-2.81c.8-.78.8-2.07 0-2.86zM5.41 20L4 18.59l7.72-7.72 1.47 1.35L5.41 20z\"/>\n",
       "  </svg>\n",
       "      </button>\n",
       "      \n",
       "  <style>\n",
       "    .colab-df-container {\n",
       "      display:flex;\n",
       "      flex-wrap:wrap;\n",
       "      gap: 12px;\n",
       "    }\n",
       "\n",
       "    .colab-df-convert {\n",
       "      background-color: #E8F0FE;\n",
       "      border: none;\n",
       "      border-radius: 50%;\n",
       "      cursor: pointer;\n",
       "      display: none;\n",
       "      fill: #1967D2;\n",
       "      height: 32px;\n",
       "      padding: 0 0 0 0;\n",
       "      width: 32px;\n",
       "    }\n",
       "\n",
       "    .colab-df-convert:hover {\n",
       "      background-color: #E2EBFA;\n",
       "      box-shadow: 0px 1px 2px rgba(60, 64, 67, 0.3), 0px 1px 3px 1px rgba(60, 64, 67, 0.15);\n",
       "      fill: #174EA6;\n",
       "    }\n",
       "\n",
       "    [theme=dark] .colab-df-convert {\n",
       "      background-color: #3B4455;\n",
       "      fill: #D2E3FC;\n",
       "    }\n",
       "\n",
       "    [theme=dark] .colab-df-convert:hover {\n",
       "      background-color: #434B5C;\n",
       "      box-shadow: 0px 1px 3px 1px rgba(0, 0, 0, 0.15);\n",
       "      filter: drop-shadow(0px 1px 2px rgba(0, 0, 0, 0.3));\n",
       "      fill: #FFFFFF;\n",
       "    }\n",
       "  </style>\n",
       "\n",
       "      <script>\n",
       "        const buttonEl =\n",
       "          document.querySelector('#df-3c7b19a3-dd56-47b8-b845-d4529a371dda button.colab-df-convert');\n",
       "        buttonEl.style.display =\n",
       "          google.colab.kernel.accessAllowed ? 'block' : 'none';\n",
       "\n",
       "        async function convertToInteractive(key) {\n",
       "          const element = document.querySelector('#df-3c7b19a3-dd56-47b8-b845-d4529a371dda');\n",
       "          const dataTable =\n",
       "            await google.colab.kernel.invokeFunction('convertToInteractive',\n",
       "                                                     [key], {});\n",
       "          if (!dataTable) return;\n",
       "\n",
       "          const docLinkHtml = 'Like what you see? Visit the ' +\n",
       "            '<a target=\"_blank\" href=https://colab.research.google.com/notebooks/data_table.ipynb>data table notebook</a>'\n",
       "            + ' to learn more about interactive tables.';\n",
       "          element.innerHTML = '';\n",
       "          dataTable['output_type'] = 'display_data';\n",
       "          await google.colab.output.renderOutput(dataTable, element);\n",
       "          const docLink = document.createElement('div');\n",
       "          docLink.innerHTML = docLinkHtml;\n",
       "          element.appendChild(docLink);\n",
       "        }\n",
       "      </script>\n",
       "    </div>\n",
       "  </div>\n",
       "  "
      ],
      "text/plain": [
       "           CITY data_usage_segment  REV_DATA_TOT_M3 VALSEG_NEW_202111  \\\n",
       "count    494995             500000    484242.000000            499812   \n",
       "unique       18                  6              NaN                 6   \n",
       "top     Baghdad                Non              NaN              5.VL   \n",
       "freq     164104             147074              NaN            173862   \n",
       "mean        NaN                NaN        11.962911               NaN   \n",
       "std         NaN                NaN        44.038748               NaN   \n",
       "min         NaN                NaN        -6.636364               NaN   \n",
       "25%         NaN                NaN         0.000000               NaN   \n",
       "50%         NaN                NaN         0.000000               NaN   \n",
       "75%         NaN                NaN         0.000000               NaN   \n",
       "max         NaN                NaN      2338.181818               NaN   \n",
       "\n",
       "       CUST_TYPE  RGA_ACTIVE_4W  DATA_CHRG_VOL_GB_M3  DATA_FREE_VOL_GB_M3  \\\n",
       "count     500000  500000.000000        484234.000000         4.842340e+05   \n",
       "unique         2            NaN                  NaN                  NaN   \n",
       "top     consumer            NaN                  NaN                  NaN   \n",
       "freq      462136            NaN                  NaN                  NaN   \n",
       "mean         NaN       0.959614             0.000087         1.576518e+00   \n",
       "std          NaN       0.196863             0.001463         6.754050e+00   \n",
       "min          NaN       0.000000             0.000000         0.000000e+00   \n",
       "25%          NaN       1.000000             0.000000         0.000000e+00   \n",
       "50%          NaN       1.000000             0.000000         9.765625e-07   \n",
       "75%          NaN       1.000000             0.000000         2.958684e-01   \n",
       "max          NaN       1.000000             0.193944         5.085283e+02   \n",
       "\n",
       "        DATA_TOTAL_VOL_GB_M3  REV_OG_CALL_PAYG_M3   REV_TOTAL_M3  \n",
       "count          484234.000000        484242.000000  484242.000000  \n",
       "unique                   NaN                  NaN            NaN  \n",
       "top                      NaN                  NaN            NaN  \n",
       "freq                     NaN                  NaN            NaN  \n",
       "mean                1.576605            24.226628      63.720174  \n",
       "std                 6.754089            47.976129      98.234127  \n",
       "min                 0.000000             0.000000    -171.534546  \n",
       "25%                 0.000000             0.069273       8.378182  \n",
       "50%                 0.000002             9.240000      33.447273  \n",
       "75%                 0.296238            29.749818      72.727273  \n",
       "max               508.528270          3581.230546    3907.389091  "
      ]
     },
     "execution_count": 13,
     "metadata": {},
     "output_type": "execute_result"
    }
   ],
   "source": [
    "df_clustering.describe(include='all') "
   ]
  },
  {
   "cell_type": "code",
   "execution_count": 14,
   "metadata": {
    "colab": {
     "base_uri": "https://localhost:8080/"
    },
    "executionInfo": {
     "elapsed": 404,
     "status": "ok",
     "timestamp": 1663884384562,
     "user": {
      "displayName": "camara moussa",
      "userId": "12832588644634301894"
     },
     "user_tz": 0
    },
    "id": "p0XqI_tkFss4",
    "outputId": "75356944-93e8-4f0f-a57b-fe77aea830fa"
   },
   "outputs": [
    {
     "data": {
      "text/plain": [
       "array(['consumer', 'corporate'], dtype=object)"
      ]
     },
     "execution_count": 14,
     "metadata": {},
     "output_type": "execute_result"
    }
   ],
   "source": [
    "df_clustering.CUST_TYPE.unique()"
   ]
  },
  {
   "cell_type": "code",
   "execution_count": 15,
   "metadata": {
    "colab": {
     "base_uri": "https://localhost:8080/"
    },
    "executionInfo": {
     "elapsed": 10,
     "status": "ok",
     "timestamp": 1663884384562,
     "user": {
      "displayName": "camara moussa",
      "userId": "12832588644634301894"
     },
     "user_tz": 0
    },
    "id": "nmHg1rJLFss5",
    "outputId": "1f31df83-17f6-4eb3-ea5a-161cb22929e1"
   },
   "outputs": [
    {
     "data": {
      "text/plain": [
       "37864"
      ]
     },
     "execution_count": 15,
     "metadata": {},
     "output_type": "execute_result"
    }
   ],
   "source": [
    "len(df_clustering[df_clustering.CUST_TYPE =='corporate'])"
   ]
  },
  {
   "cell_type": "markdown",
   "metadata": {
    "id": "9xnL7i1OFss5"
   },
   "source": [
    "# Method 2: K-Means with One Hot Encoding or Label encoder"
   ]
  },
  {
   "cell_type": "code",
   "execution_count": 16,
   "metadata": {
    "executionInfo": {
     "elapsed": 552,
     "status": "ok",
     "timestamp": 1663884385110,
     "user": {
      "displayName": "camara moussa",
      "userId": "12832588644634301894"
     },
     "user_tz": 0
    },
    "id": "vJo54fP0Fss5"
   },
   "outputs": [],
   "source": [
    "# One hot Encoding\n",
    "#df_clustering = pd.get_dummies(df_clustering, columns=[\"CITY\",\"data_usage_segment\",\"VALSEG_NEW_202111\",'CUST_TYPE'])\n",
    "# label_encoder for saving memorie issues\n",
    "label_encoder = preprocessing.LabelEncoder()\n",
    "# Encode labels in column CITY\",\"data_usage_segment\",\"VALSEG_NEW_202111\",'CUST_TYPE' \n",
    "df_clus_enc = df_clustering.copy()\n",
    "df_clus_enc['CITY']= label_encoder.fit_transform(df_clus_enc['CITY']) \n",
    "df_clus_enc['data_usage_segment']= label_encoder.fit_transform(df_clus_enc['data_usage_segment']) \n",
    "df_clus_enc['VALSEG_NEW_202111']= label_encoder.fit_transform(df_clus_enc['VALSEG_NEW_202111']) \n",
    "df_clus_enc['CUST_TYPE']= label_encoder.fit_transform(df_clus_enc['CUST_TYPE']) \n",
    "\n",
    "\n",
    "                               "
   ]
  },
  {
   "cell_type": "code",
   "execution_count": 17,
   "metadata": {
    "colab": {
     "base_uri": "https://localhost:8080/",
     "height": 364
    },
    "executionInfo": {
     "elapsed": 18,
     "status": "ok",
     "timestamp": 1663884385110,
     "user": {
      "displayName": "camara moussa",
      "userId": "12832588644634301894"
     },
     "user_tz": 0
    },
    "id": "900RH4bqFss5",
    "outputId": "6b192dea-1ffa-497a-cbb1-bd91bca8419f"
   },
   "outputs": [
    {
     "data": {
      "text/html": [
       "\n",
       "  <div id=\"df-ce925e52-069f-4d67-8271-ed49498acf93\">\n",
       "    <div class=\"colab-df-container\">\n",
       "      <div>\n",
       "<style scoped>\n",
       "    .dataframe tbody tr th:only-of-type {\n",
       "        vertical-align: middle;\n",
       "    }\n",
       "\n",
       "    .dataframe tbody tr th {\n",
       "        vertical-align: top;\n",
       "    }\n",
       "\n",
       "    .dataframe thead th {\n",
       "        text-align: right;\n",
       "    }\n",
       "</style>\n",
       "<table border=\"1\" class=\"dataframe\">\n",
       "  <thead>\n",
       "    <tr style=\"text-align: right;\">\n",
       "      <th></th>\n",
       "      <th>CITY</th>\n",
       "      <th>data_usage_segment</th>\n",
       "      <th>REV_DATA_TOT_M3</th>\n",
       "      <th>VALSEG_NEW_202111</th>\n",
       "      <th>CUST_TYPE</th>\n",
       "      <th>RGA_ACTIVE_4W</th>\n",
       "      <th>DATA_CHRG_VOL_GB_M3</th>\n",
       "      <th>DATA_FREE_VOL_GB_M3</th>\n",
       "      <th>DATA_TOTAL_VOL_GB_M3</th>\n",
       "      <th>REV_OG_CALL_PAYG_M3</th>\n",
       "      <th>REV_TOTAL_M3</th>\n",
       "    </tr>\n",
       "  </thead>\n",
       "  <tbody>\n",
       "    <tr>\n",
       "      <th>count</th>\n",
       "      <td>500000.000000</td>\n",
       "      <td>500000.000000</td>\n",
       "      <td>484242.000000</td>\n",
       "      <td>500000.000000</td>\n",
       "      <td>500000.000000</td>\n",
       "      <td>500000.000000</td>\n",
       "      <td>484234.000000</td>\n",
       "      <td>4.842340e+05</td>\n",
       "      <td>484234.000000</td>\n",
       "      <td>484242.000000</td>\n",
       "      <td>484242.000000</td>\n",
       "    </tr>\n",
       "    <tr>\n",
       "      <th>mean</th>\n",
       "      <td>6.740912</td>\n",
       "      <td>3.259932</td>\n",
       "      <td>11.962911</td>\n",
       "      <td>2.840238</td>\n",
       "      <td>0.075728</td>\n",
       "      <td>0.959614</td>\n",
       "      <td>0.000087</td>\n",
       "      <td>1.576518e+00</td>\n",
       "      <td>1.576605</td>\n",
       "      <td>24.226628</td>\n",
       "      <td>63.720174</td>\n",
       "    </tr>\n",
       "    <tr>\n",
       "      <th>std</th>\n",
       "      <td>5.443968</td>\n",
       "      <td>1.553038</td>\n",
       "      <td>44.038748</td>\n",
       "      <td>1.150678</td>\n",
       "      <td>0.264563</td>\n",
       "      <td>0.196863</td>\n",
       "      <td>0.001463</td>\n",
       "      <td>6.754050e+00</td>\n",
       "      <td>6.754089</td>\n",
       "      <td>47.976129</td>\n",
       "      <td>98.234127</td>\n",
       "    </tr>\n",
       "    <tr>\n",
       "      <th>min</th>\n",
       "      <td>0.000000</td>\n",
       "      <td>0.000000</td>\n",
       "      <td>-6.636364</td>\n",
       "      <td>0.000000</td>\n",
       "      <td>0.000000</td>\n",
       "      <td>0.000000</td>\n",
       "      <td>0.000000</td>\n",
       "      <td>0.000000e+00</td>\n",
       "      <td>0.000000</td>\n",
       "      <td>0.000000</td>\n",
       "      <td>-171.534546</td>\n",
       "    </tr>\n",
       "    <tr>\n",
       "      <th>25%</th>\n",
       "      <td>2.000000</td>\n",
       "      <td>2.000000</td>\n",
       "      <td>0.000000</td>\n",
       "      <td>2.000000</td>\n",
       "      <td>0.000000</td>\n",
       "      <td>1.000000</td>\n",
       "      <td>0.000000</td>\n",
       "      <td>0.000000e+00</td>\n",
       "      <td>0.000000</td>\n",
       "      <td>0.069273</td>\n",
       "      <td>8.378182</td>\n",
       "    </tr>\n",
       "    <tr>\n",
       "      <th>50%</th>\n",
       "      <td>4.000000</td>\n",
       "      <td>4.000000</td>\n",
       "      <td>0.000000</td>\n",
       "      <td>3.000000</td>\n",
       "      <td>0.000000</td>\n",
       "      <td>1.000000</td>\n",
       "      <td>0.000000</td>\n",
       "      <td>9.765625e-07</td>\n",
       "      <td>0.000002</td>\n",
       "      <td>9.240000</td>\n",
       "      <td>33.447273</td>\n",
       "    </tr>\n",
       "    <tr>\n",
       "      <th>75%</th>\n",
       "      <td>11.000000</td>\n",
       "      <td>5.000000</td>\n",
       "      <td>0.000000</td>\n",
       "      <td>4.000000</td>\n",
       "      <td>0.000000</td>\n",
       "      <td>1.000000</td>\n",
       "      <td>0.000000</td>\n",
       "      <td>2.958684e-01</td>\n",
       "      <td>0.296238</td>\n",
       "      <td>29.749818</td>\n",
       "      <td>72.727273</td>\n",
       "    </tr>\n",
       "    <tr>\n",
       "      <th>max</th>\n",
       "      <td>18.000000</td>\n",
       "      <td>5.000000</td>\n",
       "      <td>2338.181818</td>\n",
       "      <td>6.000000</td>\n",
       "      <td>1.000000</td>\n",
       "      <td>1.000000</td>\n",
       "      <td>0.193944</td>\n",
       "      <td>5.085283e+02</td>\n",
       "      <td>508.528270</td>\n",
       "      <td>3581.230546</td>\n",
       "      <td>3907.389091</td>\n",
       "    </tr>\n",
       "  </tbody>\n",
       "</table>\n",
       "</div>\n",
       "      <button class=\"colab-df-convert\" onclick=\"convertToInteractive('df-ce925e52-069f-4d67-8271-ed49498acf93')\"\n",
       "              title=\"Convert this dataframe to an interactive table.\"\n",
       "              style=\"display:none;\">\n",
       "        \n",
       "  <svg xmlns=\"http://www.w3.org/2000/svg\" height=\"24px\"viewBox=\"0 0 24 24\"\n",
       "       width=\"24px\">\n",
       "    <path d=\"M0 0h24v24H0V0z\" fill=\"none\"/>\n",
       "    <path d=\"M18.56 5.44l.94 2.06.94-2.06 2.06-.94-2.06-.94-.94-2.06-.94 2.06-2.06.94zm-11 1L8.5 8.5l.94-2.06 2.06-.94-2.06-.94L8.5 2.5l-.94 2.06-2.06.94zm10 10l.94 2.06.94-2.06 2.06-.94-2.06-.94-.94-2.06-.94 2.06-2.06.94z\"/><path d=\"M17.41 7.96l-1.37-1.37c-.4-.4-.92-.59-1.43-.59-.52 0-1.04.2-1.43.59L10.3 9.45l-7.72 7.72c-.78.78-.78 2.05 0 2.83L4 21.41c.39.39.9.59 1.41.59.51 0 1.02-.2 1.41-.59l7.78-7.78 2.81-2.81c.8-.78.8-2.07 0-2.86zM5.41 20L4 18.59l7.72-7.72 1.47 1.35L5.41 20z\"/>\n",
       "  </svg>\n",
       "      </button>\n",
       "      \n",
       "  <style>\n",
       "    .colab-df-container {\n",
       "      display:flex;\n",
       "      flex-wrap:wrap;\n",
       "      gap: 12px;\n",
       "    }\n",
       "\n",
       "    .colab-df-convert {\n",
       "      background-color: #E8F0FE;\n",
       "      border: none;\n",
       "      border-radius: 50%;\n",
       "      cursor: pointer;\n",
       "      display: none;\n",
       "      fill: #1967D2;\n",
       "      height: 32px;\n",
       "      padding: 0 0 0 0;\n",
       "      width: 32px;\n",
       "    }\n",
       "\n",
       "    .colab-df-convert:hover {\n",
       "      background-color: #E2EBFA;\n",
       "      box-shadow: 0px 1px 2px rgba(60, 64, 67, 0.3), 0px 1px 3px 1px rgba(60, 64, 67, 0.15);\n",
       "      fill: #174EA6;\n",
       "    }\n",
       "\n",
       "    [theme=dark] .colab-df-convert {\n",
       "      background-color: #3B4455;\n",
       "      fill: #D2E3FC;\n",
       "    }\n",
       "\n",
       "    [theme=dark] .colab-df-convert:hover {\n",
       "      background-color: #434B5C;\n",
       "      box-shadow: 0px 1px 3px 1px rgba(0, 0, 0, 0.15);\n",
       "      filter: drop-shadow(0px 1px 2px rgba(0, 0, 0, 0.3));\n",
       "      fill: #FFFFFF;\n",
       "    }\n",
       "  </style>\n",
       "\n",
       "      <script>\n",
       "        const buttonEl =\n",
       "          document.querySelector('#df-ce925e52-069f-4d67-8271-ed49498acf93 button.colab-df-convert');\n",
       "        buttonEl.style.display =\n",
       "          google.colab.kernel.accessAllowed ? 'block' : 'none';\n",
       "\n",
       "        async function convertToInteractive(key) {\n",
       "          const element = document.querySelector('#df-ce925e52-069f-4d67-8271-ed49498acf93');\n",
       "          const dataTable =\n",
       "            await google.colab.kernel.invokeFunction('convertToInteractive',\n",
       "                                                     [key], {});\n",
       "          if (!dataTable) return;\n",
       "\n",
       "          const docLinkHtml = 'Like what you see? Visit the ' +\n",
       "            '<a target=\"_blank\" href=https://colab.research.google.com/notebooks/data_table.ipynb>data table notebook</a>'\n",
       "            + ' to learn more about interactive tables.';\n",
       "          element.innerHTML = '';\n",
       "          dataTable['output_type'] = 'display_data';\n",
       "          await google.colab.output.renderOutput(dataTable, element);\n",
       "          const docLink = document.createElement('div');\n",
       "          docLink.innerHTML = docLinkHtml;\n",
       "          element.appendChild(docLink);\n",
       "        }\n",
       "      </script>\n",
       "    </div>\n",
       "  </div>\n",
       "  "
      ],
      "text/plain": [
       "                CITY  data_usage_segment  REV_DATA_TOT_M3  VALSEG_NEW_202111  \\\n",
       "count  500000.000000       500000.000000    484242.000000      500000.000000   \n",
       "mean        6.740912            3.259932        11.962911           2.840238   \n",
       "std         5.443968            1.553038        44.038748           1.150678   \n",
       "min         0.000000            0.000000        -6.636364           0.000000   \n",
       "25%         2.000000            2.000000         0.000000           2.000000   \n",
       "50%         4.000000            4.000000         0.000000           3.000000   \n",
       "75%        11.000000            5.000000         0.000000           4.000000   \n",
       "max        18.000000            5.000000      2338.181818           6.000000   \n",
       "\n",
       "           CUST_TYPE  RGA_ACTIVE_4W  DATA_CHRG_VOL_GB_M3  DATA_FREE_VOL_GB_M3  \\\n",
       "count  500000.000000  500000.000000        484234.000000         4.842340e+05   \n",
       "mean        0.075728       0.959614             0.000087         1.576518e+00   \n",
       "std         0.264563       0.196863             0.001463         6.754050e+00   \n",
       "min         0.000000       0.000000             0.000000         0.000000e+00   \n",
       "25%         0.000000       1.000000             0.000000         0.000000e+00   \n",
       "50%         0.000000       1.000000             0.000000         9.765625e-07   \n",
       "75%         0.000000       1.000000             0.000000         2.958684e-01   \n",
       "max         1.000000       1.000000             0.193944         5.085283e+02   \n",
       "\n",
       "       DATA_TOTAL_VOL_GB_M3  REV_OG_CALL_PAYG_M3   REV_TOTAL_M3  \n",
       "count         484234.000000        484242.000000  484242.000000  \n",
       "mean               1.576605            24.226628      63.720174  \n",
       "std                6.754089            47.976129      98.234127  \n",
       "min                0.000000             0.000000    -171.534546  \n",
       "25%                0.000000             0.069273       8.378182  \n",
       "50%                0.000002             9.240000      33.447273  \n",
       "75%                0.296238            29.749818      72.727273  \n",
       "max              508.528270          3581.230546    3907.389091  "
      ]
     },
     "execution_count": 17,
     "metadata": {},
     "output_type": "execute_result"
    }
   ],
   "source": [
    "df_clus_enc.describe(include='all')"
   ]
  },
  {
   "cell_type": "code",
   "execution_count": 18,
   "metadata": {
    "colab": {
     "base_uri": "https://localhost:8080/"
    },
    "executionInfo": {
     "elapsed": 17,
     "status": "ok",
     "timestamp": 1663884385111,
     "user": {
      "displayName": "camara moussa",
      "userId": "12832588644634301894"
     },
     "user_tz": 0
    },
    "id": "Hi2z6f6dFss6",
    "outputId": "b7c12338-c55e-4eb2-8346-c11074947836"
   },
   "outputs": [
    {
     "data": {
      "text/plain": [
       "(500000, 11)"
      ]
     },
     "execution_count": 18,
     "metadata": {},
     "output_type": "execute_result"
    }
   ],
   "source": [
    "# Replace Nan with 0\n",
    "df_clus_enc= df_clus_enc.fillna(0)\n",
    "df_clus_enc.shape"
   ]
  },
  {
   "cell_type": "code",
   "execution_count": 20,
   "metadata": {
    "executionInfo": {
     "elapsed": 287,
     "status": "ok",
     "timestamp": 1663884689728,
     "user": {
      "displayName": "camara moussa",
      "userId": "12832588644634301894"
     },
     "user_tz": 0
    },
    "id": "02-h6Q_wG93M"
   },
   "outputs": [],
   "source": [
    "# take a sample o 20% for the clustering\n",
    "df_clus_enc_part_20 = df_clus_enc.sample(frac = 0.2)\n"
   ]
  },
  {
   "cell_type": "markdown",
   "metadata": {
    "id": "IBxtAlg5Fss6"
   },
   "source": [
    "# KMEAN Clustering"
   ]
  },
  {
   "cell_type": "code",
   "execution_count": 21,
   "metadata": {
    "colab": {
     "base_uri": "https://localhost:8080/",
     "height": 313
    },
    "executionInfo": {
     "elapsed": 41921,
     "status": "ok",
     "timestamp": 1663884732073,
     "user": {
      "displayName": "camara moussa",
      "userId": "12832588644634301894"
     },
     "user_tz": 0
    },
    "id": "7odjm4H834ox",
    "outputId": "bbbbdb8a-235c-42f3-87a5-67eda5d02ebf"
   },
   "outputs": [
    {
     "name": "stdout",
     "output_type": "stream",
     "text": [
      "KMeans done! Time elapsed: 41.560407638549805 seconds\n"
     ]
    },
    {
     "data": {
      "image/png": "[encoded data removed]",
      "text/plain": [
       "<Figure size 432x288 with 1 Axes>"
      ]
     },
     "metadata": {
      "needs_background": "light"
     },
     "output_type": "display_data"
    }
   ],
   "source": [
    "# Boucle pour calculer le score du modèle (via l'inertie) en fonction du nombre de clusters\n",
    "\n",
    "time_start = time.time()\n",
    "\n",
    "num_clusters = 15\n",
    "kmeans_tests = [KMeans(n_clusters=i, init='k-means++', n_init=10) for i in range(1, num_clusters)]\n",
    "score = [kmeans_tests[i].fit(df_clus_enc_part_20).inertia_ for i in range(len(kmeans_tests))]\n",
    "\n",
    "print('KMeans done! Time elapsed: {} seconds'.format(time.time()-time_start))\n",
    "\n",
    "# Représentation graphique\n",
    "plt.plot(range(1, num_clusters),score)\n",
    "plt.xlabel('Number of Clusters')\n",
    "plt.ylabel('Inertia')\n",
    "plt.title('Elbow Curve')\n",
    "\n",
    "plt.savefig(\"coude.png\", dpi=250)\n",
    "\n",
    "plt.show()"
   ]
  },
  {
   "cell_type": "code",
   "execution_count": 22,
   "metadata": {
    "executionInfo": {
     "elapsed": 7,
     "status": "ok",
     "timestamp": 1663884732074,
     "user": {
      "displayName": "camara moussa",
      "userId": "12832588644634301894"
     },
     "user_tz": 0
    },
    "id": "JW_Nr1V9FGYF"
   },
   "outputs": [],
   "source": [
    "# 3 cluster seem to be goo"
   ]
  },
  {
   "cell_type": "code",
   "execution_count": 23,
   "metadata": {
    "executionInfo": {
     "elapsed": 1803,
     "status": "ok",
     "timestamp": 1663884733871,
     "user": {
      "displayName": "camara moussa",
      "userId": "12832588644634301894"
     },
     "user_tz": 0
    },
    "id": "wdzP6ER398za"
   },
   "outputs": [],
   "source": [
    "# Creation d'un modèle M-Means avec un nombre arbitraire de 3 clusters\n",
    "kmeans = KMeans(init='k-means++', n_clusters=3, n_init=10)\n",
    "\n",
    "# Fit\n",
    "kmeans.fit(df_clus_enc_part_20)\n",
    "\n",
    "# Détermination des clusters pour chaque point du jeu de données\n",
    "clusters =  kmeans.predict(df_clus_enc_part_20)"
   ]
  },
  {
   "cell_type": "code",
   "execution_count": 24,
   "metadata": {
    "colab": {
     "base_uri": "https://localhost:8080/",
     "height": 313
    },
    "executionInfo": {
     "elapsed": 1184870,
     "status": "ok",
     "timestamp": 1663885918738,
     "user": {
      "displayName": "camara moussa",
      "userId": "12832588644634301894"
     },
     "user_tz": 0
    },
    "id": "vmAkLTqN4Cxz",
    "outputId": "cbf0a77f-4135-4506-cfcf-5907906473fe"
   },
   "outputs": [
    {
     "name": "stdout",
     "output_type": "stream",
     "text": [
      "KMeans done! Time elapsed: 1184.396990776062 seconds\n"
     ]
    },
    {
     "data": {
      "image/png": "[encoded data removed]",
      "text/plain": [
       "<Figure size 432x288 with 1 Axes>"
      ]
     },
     "metadata": {
      "needs_background": "light"
     },
     "output_type": "display_data"
    }
   ],
   "source": [
    "#Vérification avec les coefficients de silhouette\n",
    "from sklearn import preprocessing, manifold, cluster, metrics, decomposition\n",
    "time_start = time.time()\n",
    "\n",
    "silhouettes = []\n",
    "for num_clusters in range (2,15):\n",
    "    cls = KMeans(n_clusters = num_clusters,n_init = 10,\n",
    "                        init = 'k-means++')\n",
    "    cls.fit(df_clus_enc_part_20)\n",
    "    silh = metrics.silhouette_score(df_clus_enc_part_20, cls.labels_)\n",
    "    silhouettes.append(silh)\n",
    "\n",
    "print('KMeans done! Time elapsed: {} seconds'.format(time.time()-time_start))\n",
    "    \n",
    "plt.plot(range(2,15), silhouettes, marker = 'o')\n",
    "plt.xlabel('Number of Clusters')\n",
    "plt.ylabel('Coef Silhouette')\n",
    "plt.title('Optimal number of clusters')\n",
    "\n",
    "plt.savefig(\"clustKM.png\", dpi=250)\n",
    "\n",
    "plt.show()"
   ]
  },
  {
   "cell_type": "code",
   "execution_count": 25,
   "metadata": {
    "executionInfo": {
     "elapsed": 8,
     "status": "ok",
     "timestamp": 1663885918739,
     "user": {
      "displayName": "camara moussa",
      "userId": "12832588644634301894"
     },
     "user_tz": 0
    },
    "id": "bEJJig95FM4r"
   },
   "outputs": [],
   "source": [
    "# 3 cluster seem to be better"
   ]
  },
  {
   "cell_type": "code",
   "execution_count": 26,
   "metadata": {
    "colab": {
     "base_uri": "https://localhost:8080/"
    },
    "executionInfo": {
     "elapsed": 2060,
     "status": "ok",
     "timestamp": 1663885920792,
     "user": {
      "displayName": "camara moussa",
      "userId": "12832588644634301894"
     },
     "user_tz": 0
    },
    "id": "CwXgP23k6AiJ",
    "outputId": "7a9f5e72-a425-45bf-bf96-c2f8e2c3bc7b"
   },
   "outputs": [
    {
     "name": "stdout",
     "output_type": "stream",
     "text": [
      "KMeans done! Time elapsed: 2.102597713470459 seconds\n"
     ]
    }
   ],
   "source": [
    "#Clustering via KMeans et récupération des valeurs de cluster pour chaque point\n",
    "n_clust = 3\n",
    "time_start = time.time()\n",
    "\n",
    "kmeans = KMeans(init='k-means++',\n",
    "                n_clusters = n_clust,\n",
    "                n_init = 10)\n",
    "\n",
    "kmeans.fit(df_clus_enc_part_20)\n",
    "\n",
    "clusters =  kmeans.predict(df_clus_enc_part_20)\n",
    "\n",
    "print('KMeans done! Time elapsed: {} seconds'.format(time.time()-time_start))"
   ]
  },
  {
   "cell_type": "code",
   "execution_count": 27,
   "metadata": {
    "colab": {
     "base_uri": "https://localhost:8080/"
    },
    "executionInfo": {
     "elapsed": 564684,
     "status": "ok",
     "timestamp": 1663886485468,
     "user": {
      "displayName": "camara moussa",
      "userId": "12832588644634301894"
     },
     "user_tz": 0
    },
    "id": "LfANs25b4Cml",
    "outputId": "3eb3c8c4-209b-4926-a4a4-c9a577edc699"
   },
   "outputs": [
    {
     "name": "stderr",
     "output_type": "stream",
     "text": [
      "/usr/local/lib/python3.7/dist-packages/sklearn/manifold/_t_sne.py:793: FutureWarning: The default learning rate in TSNE will change from 200.0 to 'auto' in 1.2.\n",
      "  FutureWarning,\n",
      "/usr/local/lib/python3.7/dist-packages/sklearn/manifold/_t_sne.py:986: FutureWarning: The PCA initialization in TSNE will change to have the standard deviation of PC1 equal to 1e-4 in 1.2. This will ensure better convergence.\n",
      "  FutureWarning,\n"
     ]
    },
    {
     "name": "stdout",
     "output_type": "stream",
     "text": [
      "t-SNE done! Time elapsed: 564.6774532794952 seconds\n"
     ]
    }
   ],
   "source": [
    "#Application du t-SNE\n",
    "\n",
    "time_start = time.time()\n",
    "\n",
    "tsne = manifold.TSNE(n_components=2, perplexity=50, n_iter=500, init='pca')\n",
    "\n",
    "X_tsne = tsne.fit_transform(df_clus_enc_part_20.values)\n",
    "\n",
    "print('t-SNE done! Time elapsed: {} seconds'.format(time.time()-time_start))"
   ]
  },
  {
   "cell_type": "code",
   "execution_count": 28,
   "metadata": {
    "colab": {
     "base_uri": "https://localhost:8080/",
     "height": 508
    },
    "executionInfo": {
     "elapsed": 4825,
     "status": "ok",
     "timestamp": 1663886490285,
     "user": {
      "displayName": "camara moussa",
      "userId": "12832588644634301894"
     },
     "user_tz": 0
    },
    "id": "tdj2FiBx5pgI",
    "outputId": "08b4ebd4-fcbb-4037-8960-7822d6196c2b"
   },
   "outputs": [
    {
     "data": {
      "text/plain": [
       "<function matplotlib.pyplot.show(*args, **kw)>"
      ]
     },
     "execution_count": 28,
     "metadata": {},
     "output_type": "execute_result"
    },
    {
     "data": {
      "image/png": "[encoded data removed]",
      "text/plain": [
       "<Figure size 1152x720 with 1 Axes>"
      ]
     },
     "metadata": {
      "needs_background": "light"
     },
     "output_type": "display_data"
    }
   ],
   "source": [
    "#Visualisation via T-SNE des clusters obtenu après le KMeans précédent\n",
    "\n",
    "plt.figure(figsize=(16,10))\n",
    "\n",
    "plt.scatter(X_tsne[:,0], X_tsne[:,1], c = clusters )\n",
    "\n",
    "plt.title(\"TSNE projection with 3 clusters post KMeans\")\n",
    "\n",
    "#plt.savefig(\"TSNE_3_KM.png\", dpi=250)\n",
    "\n",
    "plt.show"
   ]
  },
  {
   "cell_type": "markdown",
   "metadata": {
    "id": "1-uyvp2vIzav"
   },
   "source": [
    "## Evaluation des clustering\n",
    "\n",
    "The DB index captures the intuition that clusters that are (1) well-spaced from each other and (2) themselves very dense are likely a ‘good’ clustering. This is because the measure’s ‘max’ statement repeatedly selects the values where the average point is farthest away from its centroid, and where the centroids are closest together. As the DB index shrinks, the clustering is considered ‘better’.\n",
    "\n",
    "The Silhouette Coefficient tells us how well-assigned each individual point is. If S(i) is close to 0, it is right at the inflection point between two clusters. If it is closer to -1, then we would have been better off assigning it to the other cluster. If S(i) is close to 1, then the point is well-assigned and can be interpreted as belonging to an ‘appropriate’ cl"
   ]
  },
  {
   "cell_type": "code",
   "execution_count": 30,
   "metadata": {
    "colab": {
     "base_uri": "https://localhost:8080/"
    },
    "executionInfo": {
     "elapsed": 96557,
     "status": "ok",
     "timestamp": 1663887302614,
     "user": {
      "displayName": "camara moussa",
      "userId": "12832588644634301894"
     },
     "user_tz": 0
    },
    "id": "ArdskYq0Fss7",
    "outputId": "47f21d31-c1df-4fe5-e81d-aacc470cd943"
   },
   "outputs": [
    {
     "name": "stdout",
     "output_type": "stream",
     "text": [
      "DBI: 0.9255 and Silhouette: 0.6501 for KMeans\n"
     ]
    }
   ],
   "source": [
    "from sklearn.metrics import davies_bouldin_score\n",
    "from sklearn import preprocessing, manifold, cluster, metrics, decomposition\n",
    "print(\"DBI: {} and Silhouette: {} for KMeans\".format(round(davies_bouldin_score(df_clus_enc_part_20 ,kmeans.labels_),4),\n",
    "                                          round(metrics.silhouette_score(df_clus_enc_part_20, \n",
    "                                                                         kmeans.labels_),4)))"
   ]
  },
  {
   "cell_type": "code",
   "execution_count": 31,
   "metadata": {
    "colab": {
     "base_uri": "https://localhost:8080/"
    },
    "executionInfo": {
     "elapsed": 5973,
     "status": "ok",
     "timestamp": 1663887308583,
     "user": {
      "displayName": "camara moussa",
      "userId": "12832588644634301894"
     },
     "user_tz": 0
    },
    "id": "YfVvjpS6Mrrj",
    "outputId": "0d211c3b-111c-4444-e8fe-65806c7bc3a5"
   },
   "outputs": [
    {
     "data": {
      "text/plain": [
       "array([0, 2, 1], dtype=int32)"
      ]
     },
     "execution_count": 31,
     "metadata": {},
     "output_type": "execute_result"
    }
   ],
   "source": [
    "clusters = kmeans.fit_predict(df_clus_enc)\n",
    "labels = pd.DataFrame(clusters)\n",
    "labeledCustomers = pd.concat((df_clus_enc,labels),axis=1)\n",
    "labeledCustomers = labeledCustomers.rename({0:'labels'},axis=1)\n",
    "labeledCustomers.labels.unique()"
   ]
  },
  {
   "cell_type": "code",
   "execution_count": 32,
   "metadata": {
    "executionInfo": {
     "elapsed": 397,
     "status": "ok",
     "timestamp": 1663887308965,
     "user": {
      "displayName": "camara moussa",
      "userId": "12832588644634301894"
     },
     "user_tz": 0
    },
    "id": "3wq--ZkuNBsD"
   },
   "outputs": [],
   "source": [
    "df_Detailed_ADS['labels'] = labeledCustomers['labels']\n",
    "df_kmeans = df_Detailed_ADS[['msisdn_id','labels']]\n",
    "df_kmeans.to_csv('/content/drive/MyDrive/Assignment/df_kmeans.csv')"
   ]
  },
  {
   "cell_type": "code",
   "execution_count": 33,
   "metadata": {
    "executionInfo": {
     "elapsed": 3,
     "status": "ok",
     "timestamp": 1663887308965,
     "user": {
      "displayName": "camara moussa",
      "userId": "12832588644634301894"
     },
     "user_tz": 0
    },
    "id": "1a_duGV7Lyc9"
   },
   "outputs": [],
   "source": [
    "import matplotlib.pyplot as plt\n",
    "from matplotlib.collections import LineCollection\n",
    "import numpy as np\n",
    "import pandas as pd\n",
    "from scipy.cluster.hierarchy import dendrogram\n",
    "from pandas.plotting import parallel_coordinates\n",
    "import seaborn as sns\n",
    "\n",
    "def display_parallel_coordinates_centroids(df, num_clusters):\n",
    "    '''Display a parallel coordinates plot for the centroids in df'''\n",
    "\n",
    "    # Create the plot\n",
    "    fig = plt.figure(figsize=(12, 5))\n",
    "    title = fig.suptitle(\"Parallel Coordinates plot for the Centroids\", fontsize=18)\n",
    "    fig.subplots_adjust(top=0.9, wspace=0)\n",
    "\n",
    "    # Draw the chart\n",
    "    parallel_coordinates(df, 'cluster')\n",
    "\n",
    "    # Stagger the axes\n",
    "    ax=plt.gca()\n",
    "    for tick in ax.xaxis.get_major_ticks()[1::2]:\n",
    "        tick.set_pad(20)"
   ]
  },
  {
   "cell_type": "code",
   "execution_count": 34,
   "metadata": {
    "colab": {
     "base_uri": "https://localhost:8080/",
     "height": 373
    },
    "executionInfo": {
     "elapsed": 1146,
     "status": "ok",
     "timestamp": 1663887310109,
     "user": {
      "displayName": "camara moussa",
      "userId": "12832588644634301894"
     },
     "user_tz": 0
    },
    "id": "S4PtgB-uMBx-",
    "outputId": "b9a01bcc-736a-40d7-9c84-ddd13820c660"
   },
   "outputs": [
    {
     "data": {
      "image/png": "[encoded data removed]",
      "text/plain": [
       "<Figure size 864x360 with 1 Axes>"
      ]
     },
     "metadata": {
      "needs_background": "light"
     },
     "output_type": "display_data"
    }
   ],
   "source": [
    "n_clust = 3\n",
    "centroids = pd.DataFrame(kmeans.cluster_centers_, columns=df_clus_enc.columns)\n",
    "\n",
    "centroids['cluster'] = centroids.index\n",
    "\n",
    "display_parallel_coordinates_centroids(centroids, n_clust)\n",
    "\n",
    "plt.savefig(\"centro_kmean.png\", dpi=250)"
   ]
  },
  {
   "cell_type": "markdown",
   "metadata": {
    "id": "ygDWLxMwIYZ2"
   },
   "source": []
  },
  {
   "cell_type": "markdown",
   "metadata": {
    "id": "aGGobYIXFss8"
   },
   "source": [
    " # CAH Clustering"
   ]
  },
  {
   "cell_type": "code",
   "execution_count": null,
   "metadata": {
    "id": "kQs3UlqfOgt3"
   },
   "outputs": [],
   "source": [
    "# Confirmation du nombre optimal de clusters\n",
    "\n",
    "\n",
    "time_start = time.time()\n",
    "\n",
    "silhouettes = []\n",
    "for num_clusters in range (2,10):\n",
    "    cls = AgglomerativeClustering(affinity='euclidean', linkage='ward', compute_full_tree=True)\n",
    "    cls.set_params(n_clusters = num_clusters)\n",
    "    clusters_cah = cls.fit_predict(df_clus_enc) \n",
    "    silh = metrics.silhouette_score(df_clus_enc_part_20, clusters_cah)\n",
    "    silhouettes.append(silh)\n",
    "\n",
    "print('CAH done! Time elapsed: {} seconds'.format(time.time()-time_start))\n",
    "    \n",
    "plt.plot(range(2,10), silhouettes, marker = 'o')\n",
    "plt.xlabel('Number of Clusters')\n",
    "plt.ylabel('Coef Silhouette')\n",
    "plt.title('Optimal number of clusters')\n",
    "\n",
    "plt.savefig(\"clustCAH.png\", dpi=250)\n",
    "\n",
    "plt.show()"
   ]
  },
  {
   "cell_type": "code",
   "execution_count": null,
   "metadata": {
    "id": "ZS_funELOq3o"
   },
   "outputs": [],
   "source": []
  }
 ],
 "metadata": {
  "accelerator": "GPU",
  "colab": {
   "provenance": [],
   "toc_visible": true
  },
  "kernelspec": {
   "display_name": "Python 3",
   "language": "python",
   "name": "python3"
  },
  "language_info": {
   "codemirror_mode": {
    "name": "ipython",
    "version": 3
   },
   "file_extension": ".py",
   "mimetype": "text/x-python",
   "name": "python",
   "nbconvert_exporter": "python",
   "pygments_lexer": "ipython3",
   "version": "3.7.2"
  },
  "toc": {
   "base_numbering": 1,
   "nav_menu": {},
   "number_sections": true,
   "sideBar": true,
   "skip_h1_title": false,
   "title_cell": "Table of Contents",
   "title_sidebar": "Contents",
   "toc_cell": false,
   "toc_position": {},
   "toc_section_display": true,
   "toc_window_display": true
  },
  "varInspector": {
   "cols": {
    "lenName": 16,
    "lenType": 16,
    "lenVar": 40
   },
   "kernels_config": {
    "python": {
     "delete_cmd_postfix": "",
     "delete_cmd_prefix": "del ",
     "library": "var_list.py",
     "varRefreshCmd": "print(var_dic_list())"
    },
    "r": {
     "delete_cmd_postfix": ") ",
     "delete_cmd_prefix": "rm(",
     "library": "var_list.r",
     "varRefreshCmd": "cat(var_dic_list()) "
    }
   },
   "types_to_exclude": [
    "module",
    "function",
    "builtin_function_or_method",
    "instance",
    "_Feature"
   ],
   "window_display": false
  }
 },
 "nbformat": 4,
 "nbformat_minor": 1
}
